{
  "nbformat": 4,
  "nbformat_minor": 0,
  "metadata": {
    "colab": {
      "name": "Exp1.ipynb",
      "provenance": [],
      "toc_visible": true,
      "authorship_tag": "ABX9TyMA90k0TYMI43OeUrWozph2",
      "include_colab_link": true
    },
    "kernelspec": {
      "name": "python3",
      "display_name": "Python 3"
    },
    "language_info": {
      "name": "python"
    }
  },
  "cells": [
    {
      "cell_type": "markdown",
      "metadata": {
        "id": "view-in-github",
        "colab_type": "text"
      },
      "source": [
        "<a href=\"https://colab.research.google.com/github/AthuSindhu/DSML/blob/main/Exp1.ipynb\" target=\"_parent\"><img src=\"https://colab.research.google.com/assets/colab-badge.svg\" alt=\"Open In Colab\"/></a>"
      ]
    },
    {
      "cell_type": "markdown",
      "metadata": {
        "id": "-7fFWicq82Y3"
      },
      "source": [
        ""
      ]
    },
    {
      "cell_type": "markdown",
      "metadata": {
        "id": "m3zmGznZ85uR"
      },
      "source": [
        "exp1"
      ]
    },
    {
      "cell_type": "code",
      "metadata": {
        "id": "N4XmHG8i7Uc_"
      },
      "source": [
        ""
      ],
      "execution_count": null,
      "outputs": []
    },
    {
      "cell_type": "code",
      "metadata": {
        "colab": {
          "base_uri": "https://localhost:8080/"
        },
        "id": "rMcSOA9A7z8C",
        "outputId": "6bf64dc9-963a-45e6-ebc6-a8603187121c"
      },
      "source": [
        "print(\"hello\")"
      ],
      "execution_count": 2,
      "outputs": [
        {
          "output_type": "stream",
          "name": "stdout",
          "text": [
            "hello\n"
          ]
        }
      ]
    },
    {
      "cell_type": "markdown",
      "metadata": {
        "id": "VVUZqDiE9ES7"
      },
      "source": [
        "Exp1_datatypes\n"
      ]
    },
    {
      "cell_type": "code",
      "metadata": {
        "colab": {
          "base_uri": "https://localhost:8080/"
        },
        "id": "F6JA3PaLFFDm",
        "outputId": "4407007a-ede7-4dd1-aa06-622bca4a51a8"
      },
      "source": [
        "a=1\n",
        "print(type(a))\n",
        "b='HariMca'\n",
        "print(type(b))\n",
        "c=[1,2]\n",
        "print(type(c))\n",
        "d={1:'hari',2:'krish'}\n",
        "print(type(d))\n",
        "e=True\n",
        "print(type(e))\n",
        "f=33.01\n",
        "print(type(f))\n",
        "g={\"hari\",\"krish\"}\n",
        "print(type(g))\n",
        "h=(10,56)\n",
        "print(type(h))\n",
        "i=bytes(10)\n",
        "print(type(i))\n",
        "j=bytearray()\n",
        "print(type(j))\n",
        "k=range(4)\n",
        "print(type(k))"
      ],
      "execution_count": 3,
      "outputs": [
        {
          "output_type": "stream",
          "name": "stdout",
          "text": [
            "<class 'int'>\n",
            "<class 'str'>\n",
            "<class 'list'>\n",
            "<class 'dict'>\n",
            "<class 'bool'>\n",
            "<class 'float'>\n",
            "<class 'set'>\n",
            "<class 'tuple'>\n",
            "<class 'bytes'>\n",
            "<class 'bytearray'>\n",
            "<class 'range'>\n"
          ]
        }
      ]
    },
    {
      "cell_type": "markdown",
      "metadata": {
        "id": "VJhALK9NHEym"
      },
      "source": [
        "Containers"
      ]
    },
    {
      "cell_type": "code",
      "metadata": {
        "colab": {
          "base_uri": "https://localhost:8080/"
        },
        "id": "h9m6GnU0HHR1",
        "outputId": "b4a2cb92-eb04-4cca-dfae-ae161fbbfd61"
      },
      "source": [
        "#list\n",
        "mca_list=['Athulya','devu','hari']\n",
        "print(mca_list[0])\n",
        "print(mca_list[0:2])\n",
        "print(mca_list[-2])"
      ],
      "execution_count": 5,
      "outputs": [
        {
          "output_type": "stream",
          "name": "stdout",
          "text": [
            "Athulya\n",
            "['Athulya', 'devu']\n",
            "devu\n"
          ]
        }
      ]
    }
  ]
}
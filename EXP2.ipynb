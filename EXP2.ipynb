{
  "nbformat": 4,
  "nbformat_minor": 0,
  "metadata": {
    "colab": {
      "name": "EXP2.ipynb",
      "provenance": [],
      "authorship_tag": "ABX9TyP9w5zx7Ame5OSrY3qZg5md",
      "include_colab_link": true
    },
    "kernelspec": {
      "name": "python3",
      "display_name": "Python 3"
    },
    "language_info": {
      "name": "python"
    }
  },
  "cells": [
    {
      "cell_type": "markdown",
      "metadata": {
        "id": "view-in-github",
        "colab_type": "text"
      },
      "source": [
        "<a href=\"https://colab.research.google.com/github/AthuSindhu/DSML/blob/main/EXP2.ipynb\" target=\"_parent\"><img src=\"https://colab.research.google.com/assets/colab-badge.svg\" alt=\"Open In Colab\"/></a>"
      ]
    },
    {
      "cell_type": "code",
      "metadata": {
        "id": "acqXUQIiNHvV"
      },
      "source": [
        "SumandMax"
      ],
      "execution_count": null,
      "outputs": []
    },
    {
      "cell_type": "code",
      "metadata": {
        "colab": {
          "base_uri": "https://localhost:8080/"
        },
        "id": "js1pA3c1NsiO",
        "outputId": "ee39cc2e-0ea6-4306-a667-f0bce4cb7399"
      },
      "source": [
        "#sumandmax\n",
        "import numpy as np\n",
        "from timeit import Timer\n",
        " \n",
        "# Creating a large array of size 10**5\n",
        "array = np.random.randint(1000, size=10**5)\n",
        " \n",
        "def sum_using_forloop():\n",
        "  sum_array=0\n",
        "  for element in array:\n",
        "    sum_array += element\n",
        " \n",
        "def sum_using_builtin_method():\n",
        "  sum_array = sum(array)\n",
        " \n",
        "def sum_using_numpy():\n",
        "  sum_array = np.sum(array)\n",
        " \n",
        "time_forloop = Timer(sum_using_forloop).timeit(1)\n",
        "time_builtin = Timer(sum_using_builtin_method).timeit(1)\n",
        "time_numpy = Timer(sum_using_numpy).timeit(1)\n",
        " \n",
        "print(\"Summing elements takes %0.9f units using for loop\"%time_forloop)\n",
        "print(\"Summing elements takes %0.9f units using builtin method\"%time_builtin)\n",
        "print(\"Summing elements takes %0.9f units using numpy\"%time_numpy)\n",
        " \n",
        "print()\n",
        " \n",
        "def max_using_forloop():\n",
        "  maximum=array[0]\n",
        "  for element in array:\n",
        "    if element > maximum:\n",
        "      maximum = element\n",
        " \n",
        "def max_using_builtin_method():\n",
        "  maximum = max(array)\n",
        " \n",
        "def max_using_numpy():\n",
        "  maximum = np.max(array)\n",
        " \n",
        "time_forloop = Timer(max_using_forloop).timeit(1)\n",
        "time_builtin = Timer(max_using_builtin_method).timeit(1)\n",
        "time_numpy = Timer(max_using_numpy).timeit(1)\n",
        " \n",
        "print(\"Finding maximum element takes %0.9f units using for loop\"%time_forloop)\n",
        "print(\"Finding maximum element takes %0.9f units using built-in method\"%time_builtin)\n",
        "print(\"Finding maximum element takes %0.9f units using numpy\"%time_numpy)"
      ],
      "execution_count": 1,
      "outputs": [
        {
          "output_type": "stream",
          "name": "stdout",
          "text": [
            "Summing elements takes 0.045999734 units using for loop\n",
            "Summing elements takes 0.021983831 units using builtin method\n",
            "Summing elements takes 0.000182825 units using numpy\n",
            "\n",
            "Finding maximum element takes 0.023286139 units using for loop\n",
            "Finding maximum element takes 0.020796376 units using built-in method\n",
            "Finding maximum element takes 0.000286181 units using numpy\n"
          ]
        }
      ]
    },
    {
      "cell_type": "code",
      "metadata": {
        "id": "5CHWOahrODPp"
      },
      "source": [
        "dotproduct"
      ],
      "execution_count": null,
      "outputs": []
    },
    {
      "cell_type": "code",
      "metadata": {
        "colab": {
          "base_uri": "https://localhost:8080/"
        },
        "id": "mHVf0xaxOQFf",
        "outputId": "7b56cc55-161c-493e-ed65-531d9ba4c2d1"
      },
      "source": [
        "import numpy as np\n",
        "from timeit import Timer\n",
        " \n",
        "# Create 2 vectors of same length\n",
        "length = 100000\n",
        "vector1 = np.random.randint(1000, size=length)\n",
        "vector2 = np.random.randint(1000, size=length)\n",
        " \n",
        "# Finds dot product of vectors using for loop\n",
        "def dotproduct_forloop():\n",
        "  dot = 0.0\n",
        "  for i in range(length):\n",
        "    dot += vector1[i] * vector2[i]\n",
        " \n",
        "# Finds dot product of vectors using numpy vectorization\n",
        "def dotproduct_vectorize():\n",
        "  dot = np.dot(vector1, vector2)\n",
        "   \n",
        " \n",
        "# Finding execution time using timeit\n",
        "time_forloop = Timer(dotproduct_forloop).timeit(1)\n",
        "time_vectorize = Timer(dotproduct_vectorize).timeit(1)\n",
        " \n",
        "print(\"Finding dot product takes %0.9f units using for loop\"%time_forloop)\n",
        "print(\"Finding dot product takes %0.9f units using vectorization\"%time_vectorize)"
      ],
      "execution_count": 2,
      "outputs": [
        {
          "output_type": "stream",
          "name": "stdout",
          "text": [
            "Finding dot product takes 0.062666671 units using for loop\n",
            "Finding dot product takes 0.000299713 units using vectorization\n"
          ]
        }
      ]
    },
    {
      "cell_type": "markdown",
      "metadata": {
        "id": "E1dpUZU2OjO-"
      },
      "source": [
        "outerproduct"
      ]
    },
    {
      "cell_type": "code",
      "metadata": {
        "colab": {
          "base_uri": "https://localhost:8080/"
        },
        "id": "XcRy_K0ROi5h",
        "outputId": "1222c199-aeea-422a-c9c5-ca71f8733af1"
      },
      "source": [
        "#outerProduct\n",
        "import numpy as np\n",
        "from timeit import Timer\n",
        " \n",
        "# Create 2 vectors of same length\n",
        "length1 = 1000\n",
        "length2 = 500\n",
        "vector1 = np.random.randint(1000, size=length1)\n",
        "vector2 = np.random.randint(1000, size=length2)\n",
        " \n",
        "# Finds outer product of vectors using for loop\n",
        "def outerproduct_forloop():\n",
        "  outer_product = np.zeros((length1, length2), dtype='int')\n",
        "  for i in range(length1):\n",
        "    for j in range(length2):\n",
        "      outer_product[i, j] = vector1[i] * vector2[j]\n",
        " \n",
        "# Finds outer product of vectors using numpy vectorization\n",
        "def outerproduct_vectorize():\n",
        "  outer_product = np.outer(vector1, vector2)\n",
        "   \n",
        "# Finding execution time using timeit\n",
        "time_forloop = Timer(outerproduct_forloop).timeit(1)\n",
        "time_vectorize = Timer(outerproduct_vectorize).timeit(1)\n",
        " \n",
        "print(\"Finding outer product takes %0.9f units using for loop\"%time_forloop)\n",
        "print(\"Finding outer product takes %0.9f units using vectorization\"%time_vectorize)"
      ],
      "execution_count": 3,
      "outputs": [
        {
          "output_type": "stream",
          "name": "stdout",
          "text": [
            "Finding outer product takes 0.277720506 units using for loop\n",
            "Finding outer product takes 0.001791968 units using vectorization\n"
          ]
        }
      ]
    },
    {
      "cell_type": "markdown",
      "metadata": {
        "id": "ftAaSvj7O7uP"
      },
      "source": [
        "elementwiseproduct\n"
      ]
    },
    {
      "cell_type": "code",
      "metadata": {
        "colab": {
          "base_uri": "https://localhost:8080/"
        },
        "id": "HEKGdasDO6jP",
        "outputId": "45a0e6fc-0d3c-4798-9efd-7315a4be4f87"
      },
      "source": [
        "#ElementwiseProduct\n",
        "import numpy as np\n",
        "from timeit import Timer\n",
        " \n",
        "# Create 2 vectors of same length\n",
        "n = 500\n",
        "m = 700\n",
        "matrix1 = np.random.randint(1000, size=(n, m))\n",
        "matrix2 = np.random.randint(1000, size=(n, m))\n",
        " \n",
        "# Multiply 2 matrices using for loop\n",
        "def multiplication_forloop():\n",
        "  product = np.zeros((n, m), dtype='int')\n",
        "  for i in range(n):\n",
        "    for j in range(m):\n",
        "      product[i, j] = matrix1[i, j] * matrix2[i, j]\n",
        " \n",
        "# Multiply 2 matrices using numpy vectorization\n",
        "def multiplication_vectorize():\n",
        "  product = matrix1 * matrix2\n",
        " \n",
        "# Finding execution time using timeit\n",
        "time_forloop = Timer(multiplication_forloop).timeit(1)\n",
        "time_vectorize = Timer(multiplication_vectorize).timeit(1)\n",
        " \n",
        "print(\"Element Wise Multiplication takes %0.9f units using for loop\"%time_forloop)\n",
        "print(\"Element Wise Multiplication takes %0.9f units using vectorization\"%time_vectorize)"
      ],
      "execution_count": 4,
      "outputs": [
        {
          "output_type": "stream",
          "name": "stdout",
          "text": [
            "Element Wise Multiplication takes 0.258580441 units using for loop\n",
            "Element Wise Multiplication takes 0.001145078 units using vectorization\n"
          ]
        }
      ]
    }
  ]
}
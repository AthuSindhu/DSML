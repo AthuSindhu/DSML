{
  "nbformat": 4,
  "nbformat_minor": 0,
  "metadata": {
    "colab": {
      "name": "Exp4.ipynb",
      "provenance": [],
      "authorship_tag": "ABX9TyNdzs8wrOnn9abs9i0m2yxu",
      "include_colab_link": true
    },
    "kernelspec": {
      "name": "python3",
      "display_name": "Python 3"
    },
    "language_info": {
      "name": "python"
    }
  },
  "cells": [
    {
      "cell_type": "markdown",
      "metadata": {
        "id": "view-in-github",
        "colab_type": "text"
      },
      "source": [
        "<a href=\"https://colab.research.google.com/github/AthuSindhu/DSML/blob/main/Exp4.ipynb\" target=\"_parent\"><img src=\"https://colab.research.google.com/assets/colab-badge.svg\" alt=\"Open In Colab\"/></a>"
      ]
    },
    {
      "cell_type": "code",
      "metadata": {
        "id": "UZEzu8cxWJQb"
      },
      "source": [
        "import pandas as pd\n",
        "import numpy as np\n",
        "import matplotlib.pyplot as plt\n",
        "import seaborn as sns\n",
        "from scipy import stats\n"
      ],
      "execution_count": 6,
      "outputs": []
    },
    {
      "cell_type": "code",
      "metadata": {
        "colab": {
          "base_uri": "https://localhost:8080/"
        },
        "id": "0iFJ9_YUXUff",
        "outputId": "10305d27-efd3-4e95-fdd2-f0645c40c273"
      },
      "source": [
        "#print the first few with headers \n",
        "movies_df = pd.read_csv(\"IMDb movies.csv\")\n",
        "print(movies_df.head(5))"
      ],
      "execution_count": 11,
      "outputs": [
        {
          "output_type": "stream",
          "name": "stdout",
          "text": [
            "  imdb_title_id  ... reviews_from_critics\n",
            "0     tt0000009  ...                  2.0\n",
            "1     tt0000574  ...                  7.0\n",
            "2     tt0001892  ...                  2.0\n",
            "3     tt0002101  ...                  3.0\n",
            "4     tt0002130  ...                 14.0\n",
            "\n",
            "[5 rows x 22 columns]\n"
          ]
        },
        {
          "output_type": "stream",
          "name": "stderr",
          "text": [
            "/usr/local/lib/python3.7/dist-packages/IPython/core/interactiveshell.py:2718: DtypeWarning: Columns (3) have mixed types.Specify dtype option on import or set low_memory=False.\n",
            "  interactivity=interactivity, compiler=compiler, result=result)\n"
          ]
        }
      ]
    },
    {
      "cell_type": "code",
      "metadata": {
        "colab": {
          "base_uri": "https://localhost:8080/"
        },
        "id": "TiDd4-Q-XWs5",
        "outputId": "6e3840d0-2c0b-45a7-c74a-3a301e028724"
      },
      "source": [
        "#dicriptive statistics\n",
        "print(movies_df.describe())"
      ],
      "execution_count": 13,
      "outputs": [
        {
          "output_type": "stream",
          "name": "stdout",
          "text": [
            "           duration      avg_vote  ...  reviews_from_users  reviews_from_critics\n",
            "count  85855.000000  85855.000000  ...        78258.000000          74058.000000\n",
            "mean     100.351418      5.898656  ...           46.040826             27.479989\n",
            "std       22.553848      1.234987  ...          178.511411             58.339158\n",
            "min       41.000000      1.000000  ...            1.000000              1.000000\n",
            "25%       88.000000      5.200000  ...            4.000000              3.000000\n",
            "50%       96.000000      6.100000  ...            9.000000              8.000000\n",
            "75%      108.000000      6.800000  ...           27.000000             23.000000\n",
            "max      808.000000      9.900000  ...        10472.000000            999.000000\n",
            "\n",
            "[8 rows x 6 columns]\n"
          ]
        }
      ]
    },
    {
      "cell_type": "code",
      "metadata": {
        "id": "F7jMq4N6Z7F8"
      },
      "source": [
        ""
      ],
      "execution_count": null,
      "outputs": []
    }
  ]
}
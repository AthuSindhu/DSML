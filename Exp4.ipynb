{
  "nbformat": 4,
  "nbformat_minor": 0,
  "metadata": {
    "colab": {
      "name": "Exp4.ipynb",
      "provenance": [],
      "authorship_tag": "ABX9TyMftmFfCvhk/LBTnJnEaBnp",
      "include_colab_link": true
    },
    "kernelspec": {
      "name": "python3",
      "display_name": "Python 3"
    },
    "language_info": {
      "name": "python"
    }
  },
  "cells": [
    {
      "cell_type": "markdown",
      "metadata": {
        "id": "view-in-github",
        "colab_type": "text"
      },
      "source": [
        "<a href=\"https://colab.research.google.com/github/AthuSindhu/DSML/blob/main/Exp4.ipynb\" target=\"_parent\"><img src=\"https://colab.research.google.com/assets/colab-badge.svg\" alt=\"Open In Colab\"/></a>"
      ]
    },
    {
      "cell_type": "markdown",
      "metadata": {
        "id": "cPbyzJBgaUWT"
      },
      "source": [
        "Programs to handle data using Pandas.\n",
        "In this Experiment,IMDb_movies dataset is used"
      ]
    },
    {
      "cell_type": "code",
      "metadata": {
        "id": "UZEzu8cxWJQb"
      },
      "source": [
        "import pandas as pd\n",
        "import numpy as np\n",
        "import matplotlib.pyplot as plt\n",
        "import seaborn as sns\n",
        "from scipy import stats\n"
      ],
      "execution_count": 13,
      "outputs": []
    },
    {
      "cell_type": "code",
      "metadata": {
        "colab": {
          "base_uri": "https://localhost:8080/"
        },
        "id": "0iFJ9_YUXUff",
        "outputId": "baa501c4-7b11-4aec-d4fb-821503d7264a"
      },
      "source": [
        "#print the first few with headers \n",
        "movies_df = pd.read_csv(\"IMDb movies.csv\")\n",
        "print(movies_df.head(5))"
      ],
      "execution_count": 14,
      "outputs": [
        {
          "output_type": "stream",
          "name": "stdout",
          "text": [
            "  imdb_title_id  ... reviews_from_critics\n",
            "0     tt0000009  ...                  2.0\n",
            "1     tt0000574  ...                  7.0\n",
            "2     tt0001892  ...                  2.0\n",
            "3     tt0002101  ...                  3.0\n",
            "4     tt0002130  ...                 14.0\n",
            "\n",
            "[5 rows x 22 columns]\n"
          ]
        },
        {
          "output_type": "stream",
          "name": "stderr",
          "text": [
            "/usr/local/lib/python3.7/dist-packages/IPython/core/interactiveshell.py:2718: DtypeWarning: Columns (3) have mixed types.Specify dtype option on import or set low_memory=False.\n",
            "  interactivity=interactivity, compiler=compiler, result=result)\n"
          ]
        }
      ]
    },
    {
      "cell_type": "code",
      "metadata": {
        "colab": {
          "base_uri": "https://localhost:8080/"
        },
        "id": "TiDd4-Q-XWs5",
        "outputId": "8e9a3fb7-7006-435d-de51-17d2547a42e8"
      },
      "source": [
        "#dicriptive statistics\n",
        "print(movies_df.describe())"
      ],
      "execution_count": 15,
      "outputs": [
        {
          "output_type": "stream",
          "name": "stdout",
          "text": [
            "           duration      avg_vote  ...  reviews_from_users  reviews_from_critics\n",
            "count  85855.000000  85855.000000  ...        78258.000000          74058.000000\n",
            "mean     100.351418      5.898656  ...           46.040826             27.479989\n",
            "std       22.553848      1.234987  ...          178.511411             58.339158\n",
            "min       41.000000      1.000000  ...            1.000000              1.000000\n",
            "25%       88.000000      5.200000  ...            4.000000              3.000000\n",
            "50%       96.000000      6.100000  ...            9.000000              8.000000\n",
            "75%      108.000000      6.800000  ...           27.000000             23.000000\n",
            "max      808.000000      9.900000  ...        10472.000000            999.000000\n",
            "\n",
            "[8 rows x 6 columns]\n"
          ]
        }
      ]
    },
    {
      "cell_type": "code",
      "metadata": {
        "colab": {
          "base_uri": "https://localhost:8080/"
        },
        "id": "F7jMq4N6Z7F8",
        "outputId": "3c79e5d6-f449-4909-83f1-1a0a63e3af93"
      },
      "source": [
        "#check the colum names\n",
        "print(\"column names: %s\" %movies_df.columns.values)"
      ],
      "execution_count": 16,
      "outputs": [
        {
          "output_type": "stream",
          "name": "stdout",
          "text": [
            "column names: ['imdb_title_id' 'title' 'original_title' 'year' 'date_published' 'genre'\n",
            " 'duration' 'country' 'language' 'director' 'writer' 'production_company'\n",
            " 'actors' 'description' 'avg_vote' 'votes' 'budget' 'usa_gross_income'\n",
            " 'worlwide_gross_income' 'metascore' 'reviews_from_users'\n",
            " 'reviews_from_critics']\n"
          ]
        }
      ]
    },
    {
      "cell_type": "code",
      "metadata": {
        "colab": {
          "base_uri": "https://localhost:8080/"
        },
        "id": "acA8Vb8WboRs",
        "outputId": "00c1f12b-5833-4ac9-d3e7-6363e35e6128"
      },
      "source": [
        "print(movies_df.dtypes)\n",
        "print(movies_df.shape)"
      ],
      "execution_count": 17,
      "outputs": [
        {
          "output_type": "stream",
          "name": "stdout",
          "text": [
            "imdb_title_id             object\n",
            "title                     object\n",
            "original_title            object\n",
            "year                      object\n",
            "date_published            object\n",
            "genre                     object\n",
            "duration                   int64\n",
            "country                   object\n",
            "language                  object\n",
            "director                  object\n",
            "writer                    object\n",
            "production_company        object\n",
            "actors                    object\n",
            "description               object\n",
            "avg_vote                 float64\n",
            "votes                      int64\n",
            "budget                    object\n",
            "usa_gross_income          object\n",
            "worlwide_gross_income     object\n",
            "metascore                float64\n",
            "reviews_from_users       float64\n",
            "reviews_from_critics     float64\n",
            "dtype: object\n",
            "(85855, 22)\n"
          ]
        }
      ]
    },
    {
      "cell_type": "code",
      "metadata": {
        "colab": {
          "base_uri": "https://localhost:8080/"
        },
        "id": "KEdtCB8db7HT",
        "outputId": "a3847c6e-220d-4f37-e45c-a2f84079a531"
      },
      "source": [
        "#check null data\n",
        "print(\"null values:\\n\")\n",
        "print(movies_df.isna())# same as movies_df.isnull().sum()\n",
        "print(movies_df.isna().sum())\n",
        "print(\"null values %s\"%movies_df.isnull().values.any())\n",
        "print(\"null values %s\"%movies_df.isna().sum().sum())\n",
        "print(movies_df.describe())"
      ],
      "execution_count": 18,
      "outputs": [
        {
          "output_type": "stream",
          "name": "stdout",
          "text": [
            "null values:\n",
            "\n",
            "       imdb_title_id  title  ...  reviews_from_users  reviews_from_critics\n",
            "0              False  False  ...               False                 False\n",
            "1              False  False  ...               False                 False\n",
            "2              False  False  ...               False                 False\n",
            "3              False  False  ...               False                 False\n",
            "4              False  False  ...               False                 False\n",
            "...              ...    ...  ...                 ...                   ...\n",
            "85850          False  False  ...                True                 False\n",
            "85851          False  False  ...               False                 False\n",
            "85852          False  False  ...                True                  True\n",
            "85853          False  False  ...                True                  True\n",
            "85854          False  False  ...                True                 False\n",
            "\n",
            "[85855 rows x 22 columns]\n",
            "imdb_title_id                0\n",
            "title                        0\n",
            "original_title               0\n",
            "year                         0\n",
            "date_published               0\n",
            "genre                        0\n",
            "duration                     0\n",
            "country                     64\n",
            "language                   833\n",
            "director                    87\n",
            "writer                    1572\n",
            "production_company        4455\n",
            "actors                      69\n",
            "description               2115\n",
            "avg_vote                     0\n",
            "votes                        0\n",
            "budget                   62145\n",
            "usa_gross_income         70529\n",
            "worlwide_gross_income    54839\n",
            "metascore                72550\n",
            "reviews_from_users        7597\n",
            "reviews_from_critics     11797\n",
            "dtype: int64\n",
            "null values True\n",
            "null values 288652\n",
            "           duration      avg_vote  ...  reviews_from_users  reviews_from_critics\n",
            "count  85855.000000  85855.000000  ...        78258.000000          74058.000000\n",
            "mean     100.351418      5.898656  ...           46.040826             27.479989\n",
            "std       22.553848      1.234987  ...          178.511411             58.339158\n",
            "min       41.000000      1.000000  ...            1.000000              1.000000\n",
            "25%       88.000000      5.200000  ...            4.000000              3.000000\n",
            "50%       96.000000      6.100000  ...            9.000000              8.000000\n",
            "75%      108.000000      6.800000  ...           27.000000             23.000000\n",
            "max      808.000000      9.900000  ...        10472.000000            999.000000\n",
            "\n",
            "[8 rows x 6 columns]\n"
          ]
        }
      ]
    },
    {
      "cell_type": "code",
      "metadata": {
        "id": "LEu6p59zmIpP"
      },
      "source": [
        "#clean the dataset by droping the na values\n",
        "clean_movies_df = movies_df.dropna(how='any')\n",
        "movies_df = movies_df.dropna(how='any')\n"
      ],
      "execution_count": 19,
      "outputs": []
    },
    {
      "cell_type": "code",
      "metadata": {
        "colab": {
          "base_uri": "https://localhost:8080/"
        },
        "id": "tgrUBBiVqXAW",
        "outputId": "8d239881-6211-4b5b-fa7e-15b331f2bfdd"
      },
      "source": [
        "print(clean_movies_df.shape)\n",
        "#use fillna attribute of pandas \n",
        "#for filling up missing values in all columns  \n",
        "movies_df.fillna(value=0, inplace=True)\n"
      ],
      "execution_count": 20,
      "outputs": [
        {
          "output_type": "stream",
          "name": "stdout",
          "text": [
            "(6616, 22)\n"
          ]
        }
      ]
    },
    {
      "cell_type": "code",
      "metadata": {
        "colab": {
          "base_uri": "https://localhost:8080/",
          "height": 130
        },
        "id": "2LQQF5x4snan",
        "outputId": "fa06fdf8-6ad7-431a-d27f-0de25b79821f"
      },
      "source": [
        "# for some specfific columns we can just choose select those columns \n",
        "movies_df[['gross','budget']] = movies_df.[['gross','budget']].fillna(value=0)\n"
      ],
      "execution_count": 9,
      "outputs": [
        {
          "output_type": "error",
          "ename": "SyntaxError",
          "evalue": "ignored",
          "traceback": [
            "\u001b[0;36m  File \u001b[0;32m\"<ipython-input-9-8760415c4255>\"\u001b[0;36m, line \u001b[0;32m2\u001b[0m\n\u001b[0;31m    movies_df[['gross','budget']] = movies_df.[['gross','budget']].fillna(value=0)\u001b[0m\n\u001b[0m                                              ^\u001b[0m\n\u001b[0;31mSyntaxError\u001b[0m\u001b[0;31m:\u001b[0m invalid syntax\n"
          ]
        }
      ]
    },
    {
      "cell_type": "code",
      "metadata": {
        "id": "L91myQUPsw9M"
      },
      "source": [
        "#use fillna attribute of pandas\n",
        "#for filling up missing values in all columns\n",
        "movies_df.fillna(value=0,inplace=True)"
      ],
      "execution_count": 21,
      "outputs": []
    },
    {
      "cell_type": "code",
      "source": [
        "#for this dataframe we can 'missing' in the columns of object data types for example language\n",
        "movies_df['language'].fillna(\"no info\",inplace=True)\n",
        "print(\"null values\", movies_df.isna().sum())"
      ],
      "metadata": {
        "id": "wHW4Kegph-6Y",
        "outputId": "6cef1087-3081-4586-e48a-10dd6577fd1f",
        "colab": {
          "base_uri": "https://localhost:8080/"
        }
      },
      "execution_count": 22,
      "outputs": [
        {
          "output_type": "stream",
          "name": "stdout",
          "text": [
            "null values imdb_title_id            0\n",
            "title                    0\n",
            "original_title           0\n",
            "year                     0\n",
            "date_published           0\n",
            "genre                    0\n",
            "duration                 0\n",
            "country                  0\n",
            "language                 0\n",
            "director                 0\n",
            "writer                   0\n",
            "production_company       0\n",
            "actors                   0\n",
            "description              0\n",
            "avg_vote                 0\n",
            "votes                    0\n",
            "budget                   0\n",
            "usa_gross_income         0\n",
            "worlwide_gross_income    0\n",
            "metascore                0\n",
            "reviews_from_users       0\n",
            "reviews_from_critics     0\n",
            "dtype: int64\n"
          ]
        }
      ]
    },
    {
      "cell_type": "code",
      "source": [
        "# check if there are duplicate rows or not \n",
        "\n",
        "#++++++++++++++++++++++++++++++++++++++++++++++++++++++++++++++++++++++++\n",
        "\n",
        "duplicate_rows = movies_df[movies_df.duplicated()]\n",
        "print(\"number of duplicate rows: \", duplicate_rows.shape)\n"
      ],
      "metadata": {
        "id": "vRsVNwpPiHsI",
        "outputId": "295bba2d-4b8c-46d1-8790-262d5a7a7d97",
        "colab": {
          "base_uri": "https://localhost:8080/"
        }
      },
      "execution_count": 23,
      "outputs": [
        {
          "output_type": "stream",
          "name": "stdout",
          "text": [
            "number of duplicate rows:  (0, 22)\n"
          ]
        }
      ]
    }
  ]
}